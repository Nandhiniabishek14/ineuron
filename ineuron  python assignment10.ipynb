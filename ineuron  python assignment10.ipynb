{
 "cells": [
  {
   "cell_type": "markdown",
   "id": "5e168de0-4a37-4eec-811b-1e2aba6b62f5",
   "metadata": {},
   "source": [
    "ineuron Python Assignment-10"
   ]
  },
  {
   "cell_type": "code",
   "execution_count": 5,
   "id": "8af13f5b-fd5e-43ca-8a40-6d89234ddf32",
   "metadata": {},
   "outputs": [
    {
     "name": "stdout",
     "output_type": "stream",
     "text": [
      "The sum of element in the list: 210\n"
     ]
    }
   ],
   "source": [
    "#Program to find sum of elements in the list\n",
    "total=0\n",
    "list1=[10,20,30,40,50,60]\n",
    "for i in range(0,len(list1)):\n",
    "    total=total+list1[i]\n",
    "print(\"The sum of element in the list:\",total)"
   ]
  },
  {
   "cell_type": "code",
   "execution_count": 12,
   "id": "292346f8-762f-4d1d-92a5-e83ab291deaf",
   "metadata": {},
   "outputs": [
    {
     "name": "stdout",
     "output_type": "stream",
     "text": [
      "The element in the list: [10, 5, 6, 7, 8, 9, 10, 11]\n",
      "Multiply all element in the list: 16632000\n"
     ]
    }
   ],
   "source": [
    "#program to multiply all numbers in the list\n",
    "Mul=1\n",
    "list2=[10,5,6,7,8,9,10,11]\n",
    "print(\"The element in the list:\",list2)\n",
    "for i in range(0,len(list2)):\n",
    "        Mul=Mul*list2[i]\n",
    "print(\"Multiply all element in the list:\",Mul)\n",
    "        "
   ]
  },
  {
   "cell_type": "code",
   "execution_count": 11,
   "id": "ca9d3e01-e64d-4994-9591-0da5295d8690",
   "metadata": {},
   "outputs": [
    {
     "name": "stdout",
     "output_type": "stream",
     "text": [
      "The element in the list: [10, 188, 90, 20, 5]\n",
      "The Shortest element in the list: 5\n"
     ]
    }
   ],
   "source": [
    "#program to find smallest number in a list\n",
    "list3=[10,188,90,20,5]\n",
    "print(\"The element in the list:\",list3)\n",
    "list3.sort()\n",
    "print(\"The Shortest element in the list:\",list3[0])\n"
   ]
  },
  {
   "cell_type": "code",
   "execution_count": 14,
   "id": "5ece2ff3-d21d-412c-b351-26008a54f88b",
   "metadata": {},
   "outputs": [
    {
     "name": "stdout",
     "output_type": "stream",
     "text": [
      "The element in the list: [10, 200, 300, 500, 165, 700]\n",
      "The largest element in the list: 700\n"
     ]
    }
   ],
   "source": [
    "#find the largest element in the list\n",
    "list4=[10,200,300,500,165,700]\n",
    "print(\"The element in the list:\",list4)\n",
    "list4.sort()\n",
    "print(\"The largest element in the list:\",list4[-1])"
   ]
  },
  {
   "cell_type": "code",
   "execution_count": 15,
   "id": "84fc6183-cd9a-4fa1-92e2-fe72e2e50ec8",
   "metadata": {},
   "outputs": [
    {
     "name": "stdout",
     "output_type": "stream",
     "text": [
      "The element in the list: [10, 200, 300, 500, 165, 700]\n",
      "The second largest element in the list: 500\n"
     ]
    }
   ],
   "source": [
    "#find the second largest element in the list\n",
    "list4=[10,200,300,500,165,700]\n",
    "print(\"The element in the list:\",list4)\n",
    "list4.sort()\n",
    "print(\"The second largest element in the list:\",list4[-2])"
   ]
  },
  {
   "cell_type": "code",
   "execution_count": 21,
   "id": "c1de004d-761e-4f93-af1b-b88174fbeadd",
   "metadata": {},
   "outputs": [
    {
     "name": "stdin",
     "output_type": "stream",
     "text": [
      "Enter the n value: 3\n"
     ]
    },
    {
     "name": "stdout",
     "output_type": "stream",
     "text": [
      "The element in the list: [10, 100, 30, 55, 77, 99]\n",
      "the 3 largest element in the list: [77, 99, 100]\n"
     ]
    }
   ],
   "source": [
    "#program to find N largest element in the list\n",
    "n=int(input(\"Enter the n value:\"))\n",
    "list=[10,100,30,55,77,99]\n",
    "print(\"The element in the list:\",list)\n",
    "list.sort()\n",
    "list[-n:]\n",
    "print(\"the\",n,\"largest element in the list:\",list[-n:])\n"
   ]
  },
  {
   "cell_type": "code",
   "execution_count": 25,
   "id": "0089b6ec-3ac8-4085-92e8-3cfab6faea6d",
   "metadata": {},
   "outputs": [
    {
     "name": "stdout",
     "output_type": "stream",
     "text": [
      "The even numbers:\n",
      "10 2 44 66 90 14 "
     ]
    }
   ],
   "source": [
    "#program to print even numbers in the list\n",
    "list1=[10,2,44,85,66,90,11,13,14,15,17]\n",
    "print(\"The even numbers:\")\n",
    "for i in list1:\n",
    "    if i%2==0:\n",
    "        print(i,end=\" \")\n"
   ]
  },
  {
   "cell_type": "code",
   "execution_count": 27,
   "id": "bae87e96-beff-4c5b-ac5b-404683d99fd2",
   "metadata": {},
   "outputs": [
    {
     "name": "stdout",
     "output_type": "stream",
     "text": [
      "The odd numbers:\n",
      "85 11 13 15 17 "
     ]
    }
   ],
   "source": [
    "#program to print odd numbers in the list\n",
    "list1=[10,2,44,85,66,90,11,13,14,15,17]\n",
    "print(\"The odd numbers:\")\n",
    "for i in list1:\n",
    "    if i%2!=0:\n",
    "        print(i,end=\" \")\n"
   ]
  },
  {
   "cell_type": "code",
   "execution_count": 46,
   "id": "13848241-a6b9-4508-982d-b47dac63b17b",
   "metadata": {},
   "outputs": [
    {
     "name": "stdout",
     "output_type": "stream",
     "text": [
      "The original element in the list:[10, 20, 30, 40, 50, [], 100, [], 101, []]\n",
      "The filtered element :[10, 20, 30, 40, 50, 100, 101]\n"
     ]
    }
   ],
   "source": [
    "#how to remove empty list from a list\n",
    "list1=[10,20,30,40,50,[],100,[],101,[]]\n",
    "print(\"The original element in the list:\" +str(list1))\n",
    "res = [ele for ele in list1 if ele!=[]]\n",
    "print(\"The filtered element :\" +str(res))\n",
    "\n",
    "       "
   ]
  },
  {
   "cell_type": "code",
   "execution_count": 48,
   "id": "5fdfbb51-e2be-40d3-9afc-83d7bc5a3e8e",
   "metadata": {},
   "outputs": [
    {
     "name": "stdout",
     "output_type": "stream",
     "text": [
      "The original list: [10, 100, 30, 40, 49]\n",
      "The copied list lis2= [10, 100, 30, 40, 49]\n"
     ]
    }
   ],
   "source": [
    "#program to cloning or copying a list\n",
    "\n",
    "def Cloning(li1):\n",
    "    li_copy = li1[:]\n",
    "    return li_copy\n",
    " \n",
    "li1=[10,100,30,40,49]\n",
    "lis2=Cloning(li1)\n",
    "print(\"The original list:\",li1)\n",
    "print(\"The copied list lis2=\",lis2)\n"
   ]
  },
  {
   "cell_type": "code",
   "execution_count": 49,
   "id": "d867d826-7239-4da2-b871-de65da7c3122",
   "metadata": {},
   "outputs": [
    {
     "name": "stdout",
     "output_type": "stream",
     "text": [
      "8 has occurred 5 times\n"
     ]
    }
   ],
   "source": [
    "#program to count of occurence of element in alist\n",
    "def countX(lst, x):\n",
    "    return lst.count(x)\n",
    " \n",
    " \n",
    "lst = [8, 6, 8, 10, 8, 20, 10, 8, 8]\n",
    "x = 8\n",
    "print('{} has occurred {} times'.format(x,countX(lst, x)))"
   ]
  },
  {
   "cell_type": "code",
   "execution_count": null,
   "id": "5ba0480c-5b15-419b-8601-a8aa54a6377a",
   "metadata": {},
   "outputs": [],
   "source": []
  }
 ],
 "metadata": {
  "kernelspec": {
   "display_name": "Python 3 (ipykernel)",
   "language": "python",
   "name": "python3"
  },
  "language_info": {
   "codemirror_mode": {
    "name": "ipython",
    "version": 3
   },
   "file_extension": ".py",
   "mimetype": "text/x-python",
   "name": "python",
   "nbconvert_exporter": "python",
   "pygments_lexer": "ipython3",
   "version": "3.10.9"
  }
 },
 "nbformat": 4,
 "nbformat_minor": 5
}
