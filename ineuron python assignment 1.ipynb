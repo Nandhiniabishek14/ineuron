{
 "cells": [
  {
   "cell_type": "markdown",
   "id": "3eabe12e",
   "metadata": {},
   "source": [
    "# Assignment 1 ineuron"
   ]
  },
  {
   "cell_type": "code",
   "execution_count": 1,
   "id": "b5192790",
   "metadata": {},
   "outputs": [],
   "source": [
    "#Print hello python"
   ]
  },
  {
   "cell_type": "code",
   "execution_count": 2,
   "id": "9b69328b",
   "metadata": {},
   "outputs": [
    {
     "name": "stdout",
     "output_type": "stream",
     "text": [
      "HELLO PYTHON\n"
     ]
    }
   ],
   "source": [
    "a=print('HELLO PYTHON')"
   ]
  },
  {
   "cell_type": "code",
   "execution_count": 3,
   "id": "4c9465ab",
   "metadata": {},
   "outputs": [],
   "source": [
    "## To do addition and divion"
   ]
  },
  {
   "cell_type": "code",
   "execution_count": 11,
   "id": "eae14ec9",
   "metadata": {},
   "outputs": [
    {
     "name": "stdout",
     "output_type": "stream",
     "text": [
      "Enter the first number:25\n",
      "Enter the second number:5\n",
      "For addition  30\n",
      "for division 5.0\n"
     ]
    }
   ],
   "source": [
    "a=int(input(\"Enter the first number:\"))\n",
    "b=int(input(\"Enter the second number:\"))\n",
    "c=a+b\n",
    "print(\"For addition \",c)\n",
    "c=a/b\n",
    "print(\"for division\",c)\n"
   ]
  },
  {
   "cell_type": "code",
   "execution_count": null,
   "id": "c2a4b81a",
   "metadata": {},
   "outputs": [],
   "source": [
    "### area of triangle"
   ]
  },
  {
   "cell_type": "code",
   "execution_count": 1,
   "id": "9b3981d7",
   "metadata": {},
   "outputs": [
    {
     "name": "stdout",
     "output_type": "stream",
     "text": [
      "Enter the height of a triangle:30\n",
      "Enter the base of a triangle:20\n",
      "Area of a triangle: 300.0\n"
     ]
    }
   ],
   "source": [
    "h=int(input(\"Enter the height of a triangle:\"))\n",
    "b=int(input(\"Enter the base of a triangle:\"))\n",
    "Area=h * b*0.5\n",
    "print(\"Area of a triangle:\",Area)"
   ]
  },
  {
   "cell_type": "code",
   "execution_count": null,
   "id": "ceb7f56e",
   "metadata": {},
   "outputs": [],
   "source": [
    "#### swap two variables\n"
   ]
  },
  {
   "cell_type": "code",
   "execution_count": 5,
   "id": "08f71c77",
   "metadata": {},
   "outputs": [
    {
     "name": "stdout",
     "output_type": "stream",
     "text": [
      "Enter the x value:30\n",
      "Enter the y value:40\n",
      "The value of x after swap 40\n",
      "The value of y after swap 30\n"
     ]
    }
   ],
   "source": [
    "a=int(input(\"Enter the x value:\"))\n",
    "b=int(input(\"Enter the y value:\"))\n",
    "temp=a\n",
    "a=b\n",
    "b=temp\n",
    "print(\"The value of x after swap\",a)\n",
    "\n",
    "print(\"The value of y after swap\",b)"
   ]
  },
  {
   "cell_type": "code",
   "execution_count": null,
   "id": "317425c6",
   "metadata": {},
   "outputs": [],
   "source": [
    "##### Generate a random number\n",
    "\n"
   ]
  },
  {
   "cell_type": "code",
   "execution_count": 6,
   "id": "5fcbe55e",
   "metadata": {},
   "outputs": [
    {
     "name": "stdout",
     "output_type": "stream",
     "text": [
      "68\n"
     ]
    }
   ],
   "source": [
    "import random\n",
    "a=random.randint(30,70)\n",
    "print(a)"
   ]
  },
  {
   "cell_type": "code",
   "execution_count": null,
   "id": "07202773",
   "metadata": {},
   "outputs": [],
   "source": []
  }
 ],
 "metadata": {
  "kernelspec": {
   "display_name": "Python 3 (ipykernel)",
   "language": "python",
   "name": "python3"
  },
  "language_info": {
   "codemirror_mode": {
    "name": "ipython",
    "version": 3
   },
   "file_extension": ".py",
   "mimetype": "text/x-python",
   "name": "python",
   "nbconvert_exporter": "python",
   "pygments_lexer": "ipython3",
   "version": "3.10.9"
  }
 },
 "nbformat": 4,
 "nbformat_minor": 5
}
