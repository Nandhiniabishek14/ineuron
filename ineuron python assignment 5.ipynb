{
 "cells": [
  {
   "cell_type": "markdown",
   "id": "25053835",
   "metadata": {},
   "source": [
    "# Assignment 5"
   ]
  },
  {
   "cell_type": "code",
   "execution_count": 7,
   "id": "66bd7d3f",
   "metadata": {},
   "outputs": [
    {
     "name": "stdout",
     "output_type": "stream",
     "text": [
      "Enter the number1:15\n",
      "Enter the number2:21\n",
      "lcm of 15 and 21 is 105\n"
     ]
    }
   ],
   "source": [
    "#program to find LCM\n",
    "\n",
    "n1=int(input(\"Enter the number1:\"))\n",
    "n2=int(input(\"Enter the number2:\"))\n",
    "for i in range(2,max(n1,n2)):\n",
    "    if (n1%i==0) and (n2%i==0):\n",
    "        hcf=i\n",
    "        lcm=(n1*n2)//hcf\n",
    "print(\"lcm of\",n1,\"and\",n2,\"is\",lcm)"
   ]
  },
  {
   "cell_type": "code",
   "execution_count": 1,
   "id": "e8bc68ab",
   "metadata": {},
   "outputs": [
    {
     "name": "stdout",
     "output_type": "stream",
     "text": [
      "Enter the number1:15\n",
      "Enter the number2:21\n",
      "hcf of 15 and 21 is 3\n"
     ]
    }
   ],
   "source": [
    "#program to find hcf\n",
    "\n",
    "n1=int(input(\"Enter the number1:\"))\n",
    "n2=int(input(\"Enter the number2:\"))\n",
    "for i in range(2,max(n1,n2)):\n",
    "    if (n1%i==0) and (n2%i==0):\n",
    "        hcf=i\n",
    "print(\"hcf of\",n1,\"and\",n2,\"is\",hcf)"
   ]
  },
  {
   "cell_type": "code",
   "execution_count": 5,
   "id": "2bd742e3",
   "metadata": {},
   "outputs": [
    {
     "name": "stdout",
     "output_type": "stream",
     "text": [
      "Enter the number:112\n",
      "Binary equivalent is:\n",
      "1110000Enter the number:86\n",
      "octal equivalent: 0o126\n",
      "hexadecimal equivalent: 0x56\n"
     ]
    }
   ],
   "source": [
    "#convert decimal to binary,octal and hexadecimal\n",
    "\n",
    "n=int(input(\"Enter the number:\"))\n",
    "a=[]\n",
    "while n>0:\n",
    "    rmnd=n%2\n",
    "    a.append(rmnd)\n",
    "    n=n//2\n",
    "a.reverse()\n",
    "print(\"Binary equivalent is:\")\n",
    "for i in a:\n",
    "    print(i,end=\"\")\n",
    "b=int(input(\"Enter the number:\"))   \n",
    "print(\"octal equivalent:\",oct(b))\n",
    "print(\"hexadecimal equivalent:\",hex(b))\n",
    "    \n"
   ]
  },
  {
   "cell_type": "code",
   "execution_count": 6,
   "id": "6adcecd2",
   "metadata": {},
   "outputs": [
    {
     "name": "stdout",
     "output_type": "stream",
     "text": [
      "Enter the characterp\n",
      "The ASCII value of a character  p is: 112\n"
     ]
    }
   ],
   "source": [
    "#program to find ASCII value of a character\n",
    "\n",
    "c=input(\"Enter the character\")\n",
    "print(\"The ASCII value of a character \",c,\"is:\",ord(c))"
   ]
  },
  {
   "cell_type": "code",
   "execution_count": 11,
   "id": "4ba2a670",
   "metadata": {},
   "outputs": [
    {
     "name": "stdout",
     "output_type": "stream",
     "text": [
      "Select the operations:\n",
      "1.Addition\n",
      "2.Subtraction\n",
      "3.Multiplication\n",
      "4.Division\n",
      "Enter the number1: 30\n",
      "Enter the number2: 10\n",
      "Enter the choice(1/2/3/4): 4\n",
      "Division of 30 and 10 is 3.0\n"
     ]
    }
   ],
   "source": [
    "# simple claculator with 4 basic mathematical operation\n",
    "\n",
    "def add(a,b):\n",
    "    return a+b\n",
    "def sub(a,b):\n",
    "    return a-b\n",
    "def mul(a,b):\n",
    "    return a*b\n",
    "def div(a,b):\n",
    "    return a/b\n",
    "print(\"Select the operations:\")\n",
    "print(\"1.Addition\")\n",
    "print(\"2.Subtraction\")\n",
    "print(\"3.Multiplication\")\n",
    "print(\"4.Division\")\n",
    "num1=int(input(\"Enter the number1: \"))\n",
    "num2=int(input(\"Enter the number2: \"))\n",
    "choice=int(input(\"Enter the choice(1/2/3/4): \"))\n",
    "\n",
    "if choice==1:\n",
    "    print(\"Addition of \",num1,\"and\",num2,\"is\",add(num1,num2))\n",
    "elif choice==2:\n",
    "    print(\"subtraction of\",num1,\"and\",num2,\"is\",sub(num1,num2))\n",
    "elif choice==3:\n",
    "    print(\"Multiplication of\",num1,\"and\",num2,\"is\",mul(num1,num2))\n",
    "elif choice==4:\n",
    "    print(\"Division of\",num1,\"and\",num2,\"is\",div(num1,num2))"
   ]
  },
  {
   "cell_type": "markdown",
   "id": "e2379f1b",
   "metadata": {},
   "source": []
  }
 ],
 "metadata": {
  "kernelspec": {
   "display_name": "Python 3 (ipykernel)",
   "language": "python",
   "name": "python3"
  },
  "language_info": {
   "codemirror_mode": {
    "name": "ipython",
    "version": 3
   },
   "file_extension": ".py",
   "mimetype": "text/x-python",
   "name": "python",
   "nbconvert_exporter": "python",
   "pygments_lexer": "ipython3",
   "version": "3.10.9"
  }
 },
 "nbformat": 4,
 "nbformat_minor": 5
}
