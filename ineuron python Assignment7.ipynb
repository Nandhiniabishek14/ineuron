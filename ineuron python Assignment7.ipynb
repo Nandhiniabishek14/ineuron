{
 "cells": [
  {
   "cell_type": "markdown",
   "id": "5cef4bb7-a49f-4a9b-bbcc-1f511eeaf8b1",
   "metadata": {},
   "source": [
    "ineuron Python Assignment 7"
   ]
  },
  {
   "cell_type": "code",
   "execution_count": 14,
   "id": "537b5beb-093a-4fe8-bc83-f35fd543f9c0",
   "metadata": {},
   "outputs": [
    {
     "name": "stdout",
     "output_type": "stream",
     "text": [
      "The array is: [1, 2, 3, 4, 5, 67, 6]\n",
      "The sum of array is: 88\n"
     ]
    }
   ],
   "source": [
    "#find sum of array\n",
    "arr=[1,2,3,4,5,67,6]\n",
    "print(\"The array is:\",arr)\n",
    "answer=sum(arr)\n",
    "print(\"The sum of array is:\",answer)"
   ]
  },
  {
   "cell_type": "code",
   "execution_count": 13,
   "id": "30d345d4-3bc6-467a-a78b-663769c6abb0",
   "metadata": {},
   "outputs": [
    {
     "name": "stdout",
     "output_type": "stream",
     "text": [
      "The list is: [10, 100, 20, 30, 70, 900]\n",
      "largest element is: 900\n"
     ]
    }
   ],
   "source": [
    "#find the largest element in the array\n",
    "list1=[10,100,20,30,70,900]\n",
    "print(\"The list is:\",list1)\n",
    "list1.sort()\n",
    "print(\"largest element is:\",list1[-1])"
   ]
  },
  {
   "cell_type": "code",
   "execution_count": 12,
   "id": "2b1cb30e-88c8-43b7-ab2a-dc33db5c479b",
   "metadata": {},
   "outputs": [
    {
     "name": "stdout",
     "output_type": "stream",
     "text": [
      "The array before rotation: [1, 2, 3, 45, 6]\n",
      "rotated list:\n",
      "[3, 45, 6, 1, 2]\n"
     ]
    }
   ],
   "source": [
    "#program for array rotation\n",
    "def rotatearray(a,d):\n",
    "    n=len(a)\n",
    "    a[:]=a[d:n]+a[0:d]\n",
    "    return a\n",
    "arr=[1,2,3,45,6]\n",
    "print(\"The array before rotation:\",arr)\n",
    "print(\"rotated list:\")\n",
    "print(rotatearray(arr,2))"
   ]
  },
  {
   "cell_type": "code",
   "execution_count": 15,
   "id": "89c31c47-052d-4750-aa84-d328aea2aca6",
   "metadata": {},
   "outputs": [
    {
     "name": "stdout",
     "output_type": "stream",
     "text": [
      "The array is: [12, 10, 5, 6, 52, 36]\n",
      "5 6 52 36 12 10 "
     ]
    }
   ],
   "source": [
    "#program to split the array and add the first part to an end\n",
    "arr=[12,10,5,6,52,36]\n",
    "print(\"The array is:\",arr)\n",
    "n=len(arr)\n",
    "position=2\n",
    "x=arr[:position]\n",
    "y=arr[position:]\n",
    "y.extend(x)\n",
    "for i in y:\n",
    "    print(i,end=\" \")\n",
    "    "
   ]
  },
  {
   "cell_type": "code",
   "execution_count": 21,
   "id": "84104b73-afab-48ad-8ad2-fb413784dc4e",
   "metadata": {},
   "outputs": [
    {
     "name": "stdout",
     "output_type": "stream",
     "text": [
      "The array is: [6, 5, 4, 4]\n",
      "is the array is monotonic: True\n"
     ]
    }
   ],
   "source": [
    "#program to check if the array is monotonic\n",
    "def ismonotonic(A):\n",
    "    x,y=[],[]\n",
    "    x.extend(A)\n",
    "    y.extend(A)\n",
    "    x.sort()\n",
    "    y.sort(reverse=True)\n",
    "    if(x==A or y==A):\n",
    "        return True\n",
    "    return False\n",
    "A=[6,5,4,4]\n",
    "print(\"The array is:\",A)\n",
    "print(\"is the array is monotonic:\",ismonotonic(A))\n"
   ]
  },
  {
   "cell_type": "code",
   "execution_count": null,
   "id": "10dcd709-4681-41d2-aefa-45d686f45b07",
   "metadata": {},
   "outputs": [],
   "source": []
  }
 ],
 "metadata": {
  "kernelspec": {
   "display_name": "Python 3 (ipykernel)",
   "language": "python",
   "name": "python3"
  },
  "language_info": {
   "codemirror_mode": {
    "name": "ipython",
    "version": 3
   },
   "file_extension": ".py",
   "mimetype": "text/x-python",
   "name": "python",
   "nbconvert_exporter": "python",
   "pygments_lexer": "ipython3",
   "version": "3.10.9"
  }
 },
 "nbformat": 4,
 "nbformat_minor": 5
}
