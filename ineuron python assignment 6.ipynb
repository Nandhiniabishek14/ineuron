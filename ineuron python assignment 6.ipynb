{
 "cells": [
  {
   "cell_type": "markdown",
   "id": "ca136356",
   "metadata": {},
   "source": [
    "# Assignment 6"
   ]
  },
  {
   "cell_type": "code",
   "execution_count": 4,
   "id": "328c5b91",
   "metadata": {},
   "outputs": [
    {
     "name": "stdout",
     "output_type": "stream",
     "text": [
      "Enter the number:10\n",
      "Fibonacci sequence\n",
      "0\n",
      "1\n",
      "1\n",
      "2\n",
      "3\n",
      "5\n",
      "8\n",
      "13\n",
      "21\n",
      "34\n"
     ]
    }
   ],
   "source": [
    "#Fibonacci sequence using recursion\n",
    "def fibo(n):\n",
    "    if n<=1:\n",
    "        return n\n",
    "    else:\n",
    "        return(fibo(n-1)+fibo(n-2))\n",
    "nterm=int(input(\"Enter the number:\"))\n",
    "if nterm<=0:\n",
    "    print(\"Enter the Positive number\")\n",
    "else:\n",
    "    print(\"Fibonacci sequence\")\n",
    "    for i in range(nterm):\n",
    "        print(fibo(i))\n",
    "    "
   ]
  },
  {
   "cell_type": "code",
   "execution_count": 7,
   "id": "f05cd69a",
   "metadata": {},
   "outputs": [
    {
     "name": "stdout",
     "output_type": "stream",
     "text": [
      "Enter the number:5\n",
      "factorial of  5 is 120\n"
     ]
    }
   ],
   "source": [
    "#factorial of number using recursion\n",
    "def fact(n):\n",
    "    if n==1:\n",
    "        return n\n",
    "    else:\n",
    "        return(n*fact(n-1))\n",
    "num=int(input(\"Enter the number:\"))\n",
    "if num<0:\n",
    "    print(\"Enter the valid number\")\n",
    "elif num==0:\n",
    "    print(0)\n",
    "else:\n",
    "    print(\"factorial of \",num ,\"is\",fact(num))"
   ]
  },
  {
   "cell_type": "code",
   "execution_count": 1,
   "id": "23f3c1d6",
   "metadata": {},
   "outputs": [
    {
     "name": "stdout",
     "output_type": "stream",
     "text": [
      "Enter the height in meter1.65\n",
      "Enter the weight80\n",
      "29.384756657483933\n",
      "overweight\n"
     ]
    }
   ],
   "source": [
    "#program to calculate your bmi\n",
    "h=float(input(\"Enter the height in meter\"))\n",
    "w=int(input(\"Enter the weight\"))\n",
    "\n",
    "bmi=w/(h**2)\n",
    "print(bmi)\n",
    "if bmi<16:\n",
    "    print(\"Severe thiness\")\n",
    "elif bmi<=17 and bmi>=16:\n",
    "    print(\"Moderate thiness\")\n",
    "elif bmi>17 and bmi<18.5:\n",
    "    print(\"Mild Thiness\")\n",
    "elif bmi>=18.5 and bmi<25:\n",
    "    print(\"normal\")\n",
    "elif bmi>=25 and bmi<30:\n",
    "    print(\"overweight\")\n",
    "elif bmi>=30 and bmi<35:\n",
    "    print(\"Obese class 1\")\n",
    "elif bmi>=35 and bmi<40:\n",
    "    print(\"obese class 2\")\n",
    "else:\n",
    "    print(\"obese classs 3\")\n"
   ]
  },
  {
   "cell_type": "code",
   "execution_count": 2,
   "id": "039dbf32",
   "metadata": {},
   "outputs": [
    {
     "name": "stdout",
     "output_type": "stream",
     "text": [
      "Enter the number10\n",
      "log value of  10 is 2.302585092994046\n",
      "log value of  10 is 3.321928094887362\n"
     ]
    }
   ],
   "source": [
    "#calculate natural logarithm of any number\n",
    "import math\n",
    "n=int(input(\"Enter the number\"))\n",
    "print(\"log value of \",n,\"is\",math.log(n))\n",
    "print(\"log value of \",n,\"is\",math.log2(n))"
   ]
  },
  {
   "cell_type": "code",
   "execution_count": 8,
   "id": "421bef3b",
   "metadata": {},
   "outputs": [
    {
     "name": "stdout",
     "output_type": "stream",
     "text": [
      "Enter the number5\n",
      "225\n"
     ]
    }
   ],
   "source": [
    "#program for cube sum of n natural numbers\n",
    "n=int(input(\"Enter the number\"))\n",
    "sum=0\n",
    "for i in range (1,n+1):\n",
    "    sum=(i**3)+sum\n",
    "print(sum)"
   ]
  },
  {
   "cell_type": "code",
   "execution_count": null,
   "id": "9d6b0bb1",
   "metadata": {},
   "outputs": [],
   "source": []
  }
 ],
 "metadata": {
  "kernelspec": {
   "display_name": "Python 3 (ipykernel)",
   "language": "python",
   "name": "python3"
  },
  "language_info": {
   "codemirror_mode": {
    "name": "ipython",
    "version": 3
   },
   "file_extension": ".py",
   "mimetype": "text/x-python",
   "name": "python",
   "nbconvert_exporter": "python",
   "pygments_lexer": "ipython3",
   "version": "3.10.9"
  }
 },
 "nbformat": 4,
 "nbformat_minor": 5
}
