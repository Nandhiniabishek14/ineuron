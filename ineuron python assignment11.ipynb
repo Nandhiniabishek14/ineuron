{
 "cells": [
  {
   "cell_type": "markdown",
   "id": "a803f58a-eef6-41bc-9cce-ca5a3d71a0a6",
   "metadata": {},
   "source": [
    "ineuron python Assignment-11"
   ]
  },
  {
   "cell_type": "code",
   "execution_count": 14,
   "id": "111d12aa-ffff-4686-a1fd-bc933097cbaf",
   "metadata": {},
   "outputs": [
    {
     "name": "stdout",
     "output_type": "stream",
     "text": [
      "The string is :\n",
      "Python is always fun to learn\n",
      "\n",
      "The words in the string with length greater than 3 is :\n",
      "['Python', 'always', 'learn']\n"
     ]
    }
   ],
   "source": [
    "#python program to find words which are greater than given length K\n",
    "def string_check(string_length, my_string):\n",
    "   result_string = []\n",
    "   words = my_string.split(\" \")\n",
    "   for x in words:\n",
    "      if len(x) > string_length:\n",
    "         result_string.append(x)\n",
    "   return result_string\n",
    "string_length = 3\n",
    "my_string =\"Python is always fun to learn\"\n",
    "\n",
    "print(\"The string is :\")\n",
    "print(my_string)\n",
    "print (\"\\nThe words in the string with length greater than\" , string_length , \"is :\")\n",
    "print(string_check(string_length, my_string))"
   ]
  },
  {
   "cell_type": "code",
   "execution_count": 21,
   "id": "61f67a55-d59b-435f-99ad-904dd1afc672",
   "metadata": {},
   "outputs": [
    {
     "name": "stdout",
     "output_type": "stream",
     "text": [
      "The string before the removal: Happy NEEWS\n",
      "The string after removal of  10 th character :Happy NEWS\n"
     ]
    }
   ],
   "source": [
    "#python program to remove ith character from a string\n",
    "test_str = \"Happy NEEWS\"\n",
    " \n",
    "print(\"The string before the removal:\",test_str)\n",
    "new_str = \"\"\n",
    " \n",
    "for i in range(len(test_str)):\n",
    "    if i != 7:\n",
    "        new_str = new_str + test_str[i]\n",
    " \n",
    "# Printing string after removal\n",
    "print (\"The string after removal of \",i,\"th character :\"  + new_str)"
   ]
  },
  {
   "cell_type": "code",
   "execution_count": 25,
   "id": "1d8dd6e7-efa1-4e36-b259-bf347e030aec",
   "metadata": {},
   "outputs": [
    {
     "name": "stdout",
     "output_type": "stream",
     "text": [
      "split the string: ['Coding', 'is', 'challenging']\n",
      "join the string:  Coding-is-challenging\n"
     ]
    }
   ],
   "source": [
    "#python program to split and join the string\n",
    "s = 'Coding is challenging'\n",
    "# print the string after split method\n",
    "print(\"split the string:\",s.split(\" \"))\n",
    "# print the string after join method\n",
    "print(\"join the string: \",\"-\".join(s.split()))"
   ]
  },
  {
   "cell_type": "code",
   "execution_count": 29,
   "id": "f7229d9d-183a-4f06-be48-497578eccd58",
   "metadata": {},
   "outputs": [
    {
     "name": "stdout",
     "output_type": "stream",
     "text": [
      "The stringA is: 0110101010111\n",
      "The b is: {'0', '1'}\n",
      "StringA is a binary string.\n",
      "StringB is not a binary string.\n"
     ]
    }
   ],
   "source": [
    "#python program to check the given string is binary or not\n",
    "stringA = '0110101010111'\n",
    "b = {'0','1'}\n",
    "print(\"The stringA is:\",stringA)\n",
    "print(\"The b is:\",b)\n",
    "t = set(stringA)\n",
    "\n",
    "if b == t or t == {'0'} or t == {'1'}:\n",
    "    print(\"StringA is a binary string.\")\n",
    "else:\n",
    "    print(\"StringA is not a binary string.\")\n",
    "\n",
    "stringB = '0120101010111'\n",
    "u = set(stringB)\n",
    "\n",
    "if b == u or u == {'0'} or u == {'1'}:\n",
    "    print(\"StringB is a binary string.\")\n",
    "else:\n",
    "    print(\"StringB is not a binary string.\")"
   ]
  },
  {
   "cell_type": "code",
   "execution_count": 31,
   "id": "58e7d8d0-f499-4902-8d93-0113e257bfb7",
   "metadata": {},
   "outputs": [
    {
     "name": "stdin",
     "output_type": "stream",
     "text": [
      "Enter first string :  python help programming\n",
      "Enter second string :  python peach ar programming\n"
     ]
    },
    {
     "name": "stdout",
     "output_type": "stream",
     "text": [
      "All uncommon words from both the string are  ['help', 'peach', 'ar']\n"
     ]
    }
   ],
   "source": [
    "#Write a Python program to find uncommon words from two Strings?\n",
    "str1 = input('Enter first string : ')\n",
    "str2 = input('Enter second string : ')\n",
    "\n",
    "# finding uncommon words\n",
    "count = {}\n",
    "for word in str1.split():\n",
    "    count[word] = count.get(word, 0) + 1\n",
    "for word in str2.split():\n",
    "    count[word] = count.get(word, 0) + 1\n",
    "  \n",
    "uncommonWords =  [word for word in count if count[word] == 1]\n",
    "\n",
    "# printing uncommon words \n",
    "print(\"All uncommon words from both the string are \", uncommonWords)"
   ]
  },
  {
   "cell_type": "code",
   "execution_count": 32,
   "id": "2e369681-a4a8-46a1-a737-eb7c84eacb27",
   "metadata": {},
   "outputs": [],
   "source": [
    "#Write a Python to find all duplicate characters in string\n",
    "from collections import Counter\n",
    "\n",
    "def find_duplicates(s):\n",
    "    elements = Counter(s)\n",
    "    return [k for k,v in elements.items() if v>1]"
   ]
  },
  {
   "cell_type": "code",
   "execution_count": 34,
   "id": "07b56878-1714-42c2-99d6-e04b5658c626",
   "metadata": {},
   "outputs": [
    {
     "data": {
      "text/plain": [
       "['p', 'o']"
      ]
     },
     "execution_count": 34,
     "metadata": {},
     "output_type": "execute_result"
    }
   ],
   "source": [
    "find_duplicates('hippoppotomus')"
   ]
  },
  {
   "cell_type": "code",
   "execution_count": 38,
   "id": "7fdf7556-447c-400b-af75-48c30c76fa92",
   "metadata": {},
   "outputs": [
    {
     "name": "stdin",
     "output_type": "stream",
     "text": [
      "Enter the string good@@bad$$\n"
     ]
    },
    {
     "name": "stdout",
     "output_type": "stream",
     "text": [
      "good@@bad$$\n",
      "string contain special character\n"
     ]
    }
   ],
   "source": [
    "#Write a Python Program to check if a string contains any special character?\n",
    "\n",
    "#n = \"Geeks$For$Geeks\"\n",
    "n=input(\"Enter the string\")\n",
    "print(n)\n",
    "      \n",
    "n.split()\n",
    "c = 0\n",
    "s = '[@_!#$%^&*()<>?/\\|}{~:]'  \n",
    "for i in range(len(n)):\n",
    "    if n[i] in s:\n",
    "        c += 1  \n",
    "\n",
    "if c:\n",
    "    print(\"string contain special character\")\n",
    "else:\n",
    "    print(\"string does not contain special character\")\n",
    " "
   ]
  },
  {
   "cell_type": "code",
   "execution_count": null,
   "id": "42ea281b-d69d-489a-9209-91a63e17cbbf",
   "metadata": {},
   "outputs": [],
   "source": []
  }
 ],
 "metadata": {
  "kernelspec": {
   "display_name": "Python 3 (ipykernel)",
   "language": "python",
   "name": "python3"
  },
  "language_info": {
   "codemirror_mode": {
    "name": "ipython",
    "version": 3
   },
   "file_extension": ".py",
   "mimetype": "text/x-python",
   "name": "python",
   "nbconvert_exporter": "python",
   "pygments_lexer": "ipython3",
   "version": "3.10.9"
  }
 },
 "nbformat": 4,
 "nbformat_minor": 5
}
