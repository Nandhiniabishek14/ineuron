{
 "cells": [
  {
   "cell_type": "markdown",
   "id": "a8592a23",
   "metadata": {},
   "source": [
    "# Assignment 2 ineuron\n",
    "\n",
    "\n"
   ]
  },
  {
   "cell_type": "code",
   "execution_count": 1,
   "id": "711ba7aa",
   "metadata": {},
   "outputs": [],
   "source": [
    "#convert kilometer to miles\n"
   ]
  },
  {
   "cell_type": "code",
   "execution_count": 2,
   "id": "cc8d95ce",
   "metadata": {
    "scrolled": true
   },
   "outputs": [
    {
     "name": "stdout",
     "output_type": "stream",
     "text": [
      "Enter the kilometer13\n",
      "The miles: 8.077825469999999\n"
     ]
    }
   ],
   "source": [
    "a=int(input(\"Enter the kilometer\"))\n",
    "c=a*0.62137119\n",
    "print(\"The miles:\",c)"
   ]
  },
  {
   "cell_type": "code",
   "execution_count": 3,
   "id": "10bd067a",
   "metadata": {},
   "outputs": [],
   "source": [
    "#convert celsius to farenheit"
   ]
  },
  {
   "cell_type": "code",
   "execution_count": 4,
   "id": "d441ff8a",
   "metadata": {},
   "outputs": [
    {
     "name": "stdout",
     "output_type": "stream",
     "text": [
      "Enter the celsius26\n",
      "The farenheit: 78.8\n"
     ]
    }
   ],
   "source": [
    "c=int(input(\"Enter the celsius\"))\n",
    "f=(c*9/5)+32\n",
    "print(\"The farenheit:\",f)"
   ]
  },
  {
   "cell_type": "code",
   "execution_count": 5,
   "id": "9f59b5fd",
   "metadata": {},
   "outputs": [],
   "source": [
    "#To display calender\n"
   ]
  },
  {
   "cell_type": "code",
   "execution_count": 3,
   "id": "211a732f",
   "metadata": {},
   "outputs": [
    {
     "name": "stdout",
     "output_type": "stream",
     "text": [
      "Enter the year:2019\n",
      "Enter the month:3\n",
      "     March 2019\n",
      "Mo Tu We Th Fr Sa Su\n",
      "             1  2  3\n",
      " 4  5  6  7  8  9 10\n",
      "11 12 13 14 15 16 17\n",
      "18 19 20 21 22 23 24\n",
      "25 26 27 28 29 30 31\n",
      "\n"
     ]
    }
   ],
   "source": [
    "import calendar\n",
    "year=int(input(\"Enter the year:\"))\n",
    "month=int(input(\"Enter the month:\"))\n",
    "print(calendar.month(year,month))"
   ]
  },
  {
   "cell_type": "code",
   "execution_count": 7,
   "id": "69ed4217",
   "metadata": {},
   "outputs": [],
   "source": [
    "# To solve quadratic equation\n",
    "# a*x**2+b*x+c=0"
   ]
  },
  {
   "cell_type": "code",
   "execution_count": 21,
   "id": "0cf3bb50",
   "metadata": {},
   "outputs": [
    {
     "name": "stdout",
     "output_type": "stream",
     "text": [
      "Enter the first number:14\n",
      "Enter the second  number:2\n",
      "Enter the third  number:10\n",
      "the answer is  (-2+23.57965224510319j) (-2-23.57965224510319j)\n"
     ]
    }
   ],
   "source": [
    "import cmath\n",
    "a=int(input(\"Enter the first number:\"))\n",
    "b=int(input(\"Enter the second  number:\"))\n",
    "c=int(input(\"Enter the third  number:\"))\n",
    "\n",
    "#to find discriminant\n",
    "d=(b**2-(4*a*c))\n",
    "if d==0:\n",
    "    print(\"This is not a number:\")\n",
    "elif d>0:\n",
    "    answer1=-b+cmath.sqrt((b**2-(4*a*c)))\n",
    "    print(\"the answer\",answer1)\n",
    "else:\n",
    "    answer2=-b+cmath.sqrt((b**2-(4*a*c)))\n",
    "    answer3=-b-cmath.sqrt((b**2-(4*a*c)))\n",
    "    print(\"the answer is \",answer2,answer3)"
   ]
  },
  {
   "cell_type": "code",
   "execution_count": 23,
   "id": "e7af1a81",
   "metadata": {},
   "outputs": [
    {
     "name": "stdout",
     "output_type": "stream",
     "text": [
      "Enter x:40\n",
      "Enter y:60\n",
      "The value of x after swap: 60\n",
      "The value of y after swap: 40\n"
     ]
    }
   ],
   "source": [
    "#swap the variable without temp\n",
    "a=int(input(\"Enter x:\"))\n",
    "b=int(input(\"Enter y:\"))\n",
    "a,b=b,a\n",
    "print(\"The value of x after swap:\",a)\n",
    "print(\"The value of y after swap:\",b)"
   ]
  },
  {
   "cell_type": "code",
   "execution_count": null,
   "id": "c0c958de",
   "metadata": {},
   "outputs": [],
   "source": []
  }
 ],
 "metadata": {
  "kernelspec": {
   "display_name": "Python 3 (ipykernel)",
   "language": "python",
   "name": "python3"
  },
  "language_info": {
   "codemirror_mode": {
    "name": "ipython",
    "version": 3
   },
   "file_extension": ".py",
   "mimetype": "text/x-python",
   "name": "python",
   "nbconvert_exporter": "python",
   "pygments_lexer": "ipython3",
   "version": "3.10.9"
  }
 },
 "nbformat": 4,
 "nbformat_minor": 5
}
