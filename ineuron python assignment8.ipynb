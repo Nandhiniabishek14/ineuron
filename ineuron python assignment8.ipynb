{
 "cells": [
  {
   "cell_type": "markdown",
   "id": "99e43cf0-c06c-47ea-9684-92e42441e89d",
   "metadata": {
    "jp-MarkdownHeadingCollapsed": true,
    "tags": []
   },
   "source": [
    "ineuron python assignment 8"
   ]
  },
  {
   "cell_type": "code",
   "execution_count": 2,
   "id": "458e734f-2edc-488f-96f6-3749f4b7723b",
   "metadata": {},
   "outputs": [
    {
     "name": "stdout",
     "output_type": "stream",
     "text": [
      "[[11 22 33 44]\n",
      " [54 65 76 87]\n",
      " [41 86 79 58]]\n"
     ]
    }
   ],
   "source": [
    "#program to add two matrices\n",
    "import numpy as np\n",
    "x=[[1,2,3,4],\n",
    "   [4,5,6,7],\n",
    "  [1,6,9,8]]\n",
    "y=[[10,20,30,40],\n",
    "   [50,60,70,80],\n",
    "  [40,80,70,50]]\n",
    "result=np.array(x)+np.array(y)\n",
    "print(result)"
   ]
  },
  {
   "cell_type": "code",
   "execution_count": 5,
   "id": "db0bd19a-41ab-4e0d-b056-e987ad637bff",
   "metadata": {},
   "outputs": [
    {
     "name": "stdout",
     "output_type": "stream",
     "text": [
      "[242 410 422 392]\n",
      "[560 929 986 959]\n",
      "[ 704 1186 1200 1088]\n"
     ]
    }
   ],
   "source": [
    "#program to multiply two matrices\n",
    "A=[[1,2,3],\n",
    "   [4,5,6],\n",
    "  [1,6,9]]\n",
    "B=[[11,22,33,44],\n",
    " [54,65,76,87],\n",
    " [41,86,79,58]]\n",
    "result=[[0,0,0,0],[0,0,0,0],[0,0,0,0]]\n",
    "result=np.dot(A,B)\n",
    "for p in result:\n",
    "    print(p)\n",
    "    "
   ]
  },
  {
   "cell_type": "code",
   "execution_count": 8,
   "id": "f8700d9b-c27e-4b84-a5fc-277b0b34c3d1",
   "metadata": {},
   "outputs": [
    {
     "name": "stdout",
     "output_type": "stream",
     "text": [
      "The matric is: [[1 2 3]\n",
      " [3 4 6]]\n",
      "The Transpose Matrix: [[1 3]\n",
      " [2 4]\n",
      " [3 6]]\n"
     ]
    }
   ],
   "source": [
    "#program to transpose a matrix\n",
    "A=np.array([[1,2,3],[3,4,6]])\n",
    "print(\"The matric is:\",A)\n",
    "A_T=A.transpose()\n",
    "print(\"The Transpose Matrix:\",A_T)"
   ]
  },
  {
   "cell_type": "code",
   "execution_count": 10,
   "id": "ba49927a-cedf-48b8-a7db-bfc288ed26b9",
   "metadata": {},
   "outputs": [
    {
     "name": "stdin",
     "output_type": "stream",
     "text": [
      "Enter the string: this is a alphabet\n"
     ]
    },
    {
     "name": "stdout",
     "output_type": "stream",
     "text": [
      "The Sorted words are:\n",
      "a\n",
      "alphabet\n",
      "is\n",
      "this\n"
     ]
    }
   ],
   "source": [
    "#set words in an alphabetical oder\n",
    "\n",
    "my_str=input(\"Enter the string:\")\n",
    "words=[word.lower() for word in my_str.split()]\n",
    "words.sort()\n",
    "print(\"The Sorted words are:\")\n",
    "for word in words:\n",
    "    print(word)\n",
    "    "
   ]
  },
  {
   "cell_type": "code",
   "execution_count": 15,
   "id": "f3c4dfae-a5af-4e9f-b6c5-1184ebc33593",
   "metadata": {},
   "outputs": [
    {
     "name": "stdout",
     "output_type": "stream",
     "text": [
      "The String with punctuation: I am favourite,How Can I Help You??\n",
      "remove punctuation: I am favouriteHow Can I Help You\n"
     ]
    }
   ],
   "source": [
    "#remove punctuation  from string\n",
    "import string\n",
    "text=\"I am favourite,How Can I Help You??\"\n",
    "print(\"The String with punctuation:\",text)\n",
    "translating=str.maketrans('','',string.punctuation)\n",
    "new_string=text.translate(translating)\n",
    "print(\"remove punctuation:\",new_string)"
   ]
  },
  {
   "cell_type": "code",
   "execution_count": null,
   "id": "f4107169-91b5-44cb-9bde-3d9e0477a0b9",
   "metadata": {},
   "outputs": [],
   "source": []
  }
 ],
 "metadata": {
  "kernelspec": {
   "display_name": "Python 3 (ipykernel)",
   "language": "python",
   "name": "python3"
  },
  "language_info": {
   "codemirror_mode": {
    "name": "ipython",
    "version": 3
   },
   "file_extension": ".py",
   "mimetype": "text/x-python",
   "name": "python",
   "nbconvert_exporter": "python",
   "pygments_lexer": "ipython3",
   "version": "3.10.9"
  }
 },
 "nbformat": 4,
 "nbformat_minor": 5
}
