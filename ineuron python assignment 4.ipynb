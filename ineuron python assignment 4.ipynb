{
 "cells": [
  {
   "cell_type": "markdown",
   "id": "42cfdc67",
   "metadata": {},
   "source": [
    "# Assignmnet 4"
   ]
  },
  {
   "cell_type": "code",
   "execution_count": 11,
   "id": "b8ecf1d4",
   "metadata": {},
   "outputs": [
    {
     "name": "stdout",
     "output_type": "stream",
     "text": [
      "Enter the number5\n",
      "5\n",
      "The factorial of a number is: 120\n"
     ]
    }
   ],
   "source": [
    "#program to find factorial of a number\n",
    "n=int(input(\"Enter the number\"))\n",
    "print(n)\n",
    "factorial=1\n",
    "for i in range(1,n+1):\n",
    "    factorial=factorial*i\n",
    "print(\"The factorial of a number is:\",factorial)\n"
   ]
  },
  {
   "cell_type": "code",
   "execution_count": 17,
   "id": "810b57db",
   "metadata": {},
   "outputs": [
    {
     "name": "stdout",
     "output_type": "stream",
     "text": [
      "Enter the multiplication table:6\n",
      "1 x 6 = 6\n",
      "2 x 6 = 12\n",
      "3 x 6 = 18\n",
      "4 x 6 = 24\n",
      "5 x 6 = 30\n",
      "6 x 6 = 36\n",
      "7 x 6 = 42\n",
      "8 x 6 = 48\n",
      "9 x 6 = 54\n",
      "10 x 6 = 60\n",
      "11 x 6 = 66\n",
      "12 x 6 = 72\n"
     ]
    }
   ],
   "source": [
    "#program to display multiplication Table\n",
    "n=int(input(\"Enter the multiplication table:\"))\n",
    "for i in range(1,13):\n",
    "    print(i,\"x\",n,\"=\",i*n)\n"
   ]
  },
  {
   "cell_type": "code",
   "execution_count": 21,
   "id": "d5e16b55",
   "metadata": {},
   "outputs": [
    {
     "name": "stdout",
     "output_type": "stream",
     "text": [
      "Enter the number:8\n",
      "1\n",
      "2\n",
      "3\n",
      "5\n",
      "8\n",
      "13\n",
      "21\n",
      "34\n"
     ]
    }
   ],
   "source": [
    "#fibonacci series\n",
    "n=int(input(\"Enter the number:\"))\n",
    "a=0\n",
    "b=1\n",
    "for i in range(1,n+1):\n",
    "    c=a+b\n",
    "    a=b\n",
    "    b=c\n",
    "    print(b)"
   ]
  },
  {
   "cell_type": "code",
   "execution_count": 1,
   "id": "a2c4dd8c",
   "metadata": {},
   "outputs": [
    {
     "name": "stdout",
     "output_type": "stream",
     "text": [
      "Enter the number153\n",
      "yes\n"
     ]
    }
   ],
   "source": [
    "#check Armstrong number\n",
    "\n",
    "num=int(input(\"Enter the number\"))\n",
    "\n",
    "a=num\n",
    "add=0\n",
    "while a>0:\n",
    "    remdr=a%10\n",
    "    add+=remdr**3\n",
    "    a//=10\n",
    "    \n",
    "if num==add:\n",
    "    print(\"yes\")\n",
    "else:\n",
    "    print(\"no\")"
   ]
  },
  {
   "cell_type": "code",
   "execution_count": 1,
   "id": "8a6661be",
   "metadata": {},
   "outputs": [
    {
     "name": "stdout",
     "output_type": "stream",
     "text": [
      "Enter the First number:144\n",
      "enter the second number:154\n",
      "153\n"
     ]
    }
   ],
   "source": [
    "#Find Armstrong number in a interval\n",
    "\n",
    "n1=int(input(\"Enter the First number:\"))\n",
    "n2=int(input(\"enter the second number:\"))\n",
    "for i in range(n1,n2+1):\n",
    "    add=0\n",
    "    temp=i\n",
    "    while temp>0:\n",
    "        remdr=temp%10\n",
    "        add+=remdr**3\n",
    "        temp//=10\n",
    "    if i==add:\n",
    "        print(i)\n"
   ]
  },
  {
   "cell_type": "code",
   "execution_count": 5,
   "id": "36c7c253",
   "metadata": {},
   "outputs": [
    {
     "name": "stdout",
     "output_type": "stream",
     "text": [
      "Enter the  natural number:6\n",
      "21\n"
     ]
    }
   ],
   "source": [
    "#sum of a natural number\n",
    "\n",
    "n=int(input(\"Enter the  natural number:\"))\n",
    "sum=0\n",
    "for i in range (1,n+1):\n",
    "    sum=sum+i\n",
    "print(sum)"
   ]
  },
  {
   "cell_type": "code",
   "execution_count": null,
   "id": "ff305cfd",
   "metadata": {},
   "outputs": [],
   "source": []
  }
 ],
 "metadata": {
  "kernelspec": {
   "display_name": "Python 3 (ipykernel)",
   "language": "python",
   "name": "python3"
  },
  "language_info": {
   "codemirror_mode": {
    "name": "ipython",
    "version": 3
   },
   "file_extension": ".py",
   "mimetype": "text/x-python",
   "name": "python",
   "nbconvert_exporter": "python",
   "pygments_lexer": "ipython3",
   "version": "3.10.9"
  }
 },
 "nbformat": 4,
 "nbformat_minor": 5
}
